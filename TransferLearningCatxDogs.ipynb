{
  "nbformat": 4,
  "nbformat_minor": 0,
  "metadata": {
    "colab": {
      "provenance": [],
      "authorship_tag": "ABX9TyNxvCbPrXmmqRM6D0Gdiv3O",
      "include_colab_link": true
    },
    "kernelspec": {
      "name": "python3",
      "display_name": "Python 3"
    },
    "language_info": {
      "name": "python"
    }
  },
  "cells": [
    {
      "cell_type": "markdown",
      "metadata": {
        "id": "view-in-github",
        "colab_type": "text"
      },
      "source": [
        "<a href=\"https://colab.research.google.com/github/jevertonbs/especialistamachinelearning/blob/main/TransferLearningCatxDogs.ipynb\" target=\"_parent\"><img src=\"https://colab.research.google.com/assets/colab-badge.svg\" alt=\"Open In Colab\"/></a>"
      ]
    },
    {
      "cell_type": "code",
      "execution_count": 1,
      "metadata": {
        "colab": {
          "base_uri": "https://localhost:8080/"
        },
        "id": "GcDOPxwp49v2",
        "outputId": "7cbaa3ad-59a7-451a-f147-cb32a7fcd4fd"
      },
      "outputs": [
        {
          "output_type": "stream",
          "name": "stdout",
          "text": [
            "Cloning into 'catsxdogs'...\n",
            "remote: Enumerating objects: 10055, done.\u001b[K\n",
            "remote: Total 10055 (delta 0), reused 0 (delta 0), pack-reused 10055\u001b[K\n",
            "Receiving objects: 100% (10055/10055), 301.00 MiB | 13.09 MiB/s, done.\n",
            "Resolving deltas: 100% (19/19), done.\n",
            "Updating files: 100% (10018/10018), done.\n"
          ]
        }
      ],
      "source": [
        "!git clone https://github.com/cunhamaicon/catsxdogs"
      ]
    },
    {
      "cell_type": "code",
      "source": [
        "!pip install keras-preprocessing"
      ],
      "metadata": {
        "colab": {
          "base_uri": "https://localhost:8080/"
        },
        "id": "P1xo5FVT6hNy",
        "outputId": "027a2caa-9a3c-483c-fb39-04b5966adab6"
      },
      "execution_count": 2,
      "outputs": [
        {
          "output_type": "stream",
          "name": "stdout",
          "text": [
            "Collecting keras-preprocessing\n",
            "  Downloading Keras_Preprocessing-1.1.2-py2.py3-none-any.whl (42 kB)\n",
            "\u001b[2K     \u001b[90m━━━━━━━━━━━━━━━━━━━━━━━━━━━━━━━━━━━━━━━━\u001b[0m \u001b[32m42.6/42.6 kB\u001b[0m \u001b[31m161.6 kB/s\u001b[0m eta \u001b[36m0:00:00\u001b[0m\n",
            "\u001b[?25hRequirement already satisfied: numpy>=1.9.1 in /usr/local/lib/python3.10/dist-packages (from keras-preprocessing) (1.25.2)\n",
            "Requirement already satisfied: six>=1.9.0 in /usr/local/lib/python3.10/dist-packages (from keras-preprocessing) (1.16.0)\n",
            "Installing collected packages: keras-preprocessing\n",
            "Successfully installed keras-preprocessing-1.1.2\n"
          ]
        }
      ]
    },
    {
      "cell_type": "code",
      "source": [
        "import pandas as pd\n",
        "import numpy as np\n",
        "import os\n",
        "import matplotlib.pyplot as plt\n",
        "from keras.layers import Dense,GlobalAveragePooling2D\n",
        "from keras.applications import MobileNet\n",
        "from keras.applications.mobilenet import preprocess_input\n",
        "#from keras.preprocessing import preprocess_input\n",
        "from keras.preprocessing.image import ImageDataGenerator\n",
        "from keras.models import Model\n",
        "from keras.optimizers import Adam\n",
        "from keras.layers import Dropout"
      ],
      "metadata": {
        "id": "wlWrc7Yw5JKT"
      },
      "execution_count": 3,
      "outputs": []
    },
    {
      "cell_type": "code",
      "source": [
        "model=MobileNet(weights='imagenet',include_top=False)"
      ],
      "metadata": {
        "colab": {
          "base_uri": "https://localhost:8080/"
        },
        "id": "xCVyEoQU7VH6",
        "outputId": "1567cd9b-9d6b-44e4-d5fd-e664c43a0d55"
      },
      "execution_count": 4,
      "outputs": [
        {
          "output_type": "stream",
          "name": "stderr",
          "text": [
            "WARNING:tensorflow:`input_shape` is undefined or non-square, or `rows` is not in [128, 160, 192, 224]. Weights for input shape (224, 224) will be loaded as the default.\n"
          ]
        },
        {
          "output_type": "stream",
          "name": "stdout",
          "text": [
            "Downloading data from https://storage.googleapis.com/tensorflow/keras-applications/mobilenet/mobilenet_1_0_224_tf_no_top.h5\n",
            "17225924/17225924 [==============================] - 0s 0us/step\n"
          ]
        }
      ]
    },
    {
      "cell_type": "code",
      "source": [
        "x=model.output\n",
        "x=GlobalAveragePooling2D()(x)"
      ],
      "metadata": {
        "id": "TCVQABdp7kDt"
      },
      "execution_count": 5,
      "outputs": []
    },
    {
      "cell_type": "code",
      "source": [
        "x=Dense(50,activation='relu')(x)\n",
        "preds=Dense(1,activation='sigmoid')(x)\n",
        "model=Model(inputs=model.input,outputs=preds)"
      ],
      "metadata": {
        "id": "xaENDD037t11"
      },
      "execution_count": 6,
      "outputs": []
    },
    {
      "cell_type": "code",
      "source": [
        "for i,layer in enumerate(model.layers):\n",
        "  print(i,layer.name)"
      ],
      "metadata": {
        "colab": {
          "base_uri": "https://localhost:8080/"
        },
        "id": "HgExOUot8Ao4",
        "outputId": "57f17e7a-a6f5-46d0-b3ca-54bc5c08989b"
      },
      "execution_count": 7,
      "outputs": [
        {
          "output_type": "stream",
          "name": "stdout",
          "text": [
            "0 input_1\n",
            "1 conv1\n",
            "2 conv1_bn\n",
            "3 conv1_relu\n",
            "4 conv_dw_1\n",
            "5 conv_dw_1_bn\n",
            "6 conv_dw_1_relu\n",
            "7 conv_pw_1\n",
            "8 conv_pw_1_bn\n",
            "9 conv_pw_1_relu\n",
            "10 conv_pad_2\n",
            "11 conv_dw_2\n",
            "12 conv_dw_2_bn\n",
            "13 conv_dw_2_relu\n",
            "14 conv_pw_2\n",
            "15 conv_pw_2_bn\n",
            "16 conv_pw_2_relu\n",
            "17 conv_dw_3\n",
            "18 conv_dw_3_bn\n",
            "19 conv_dw_3_relu\n",
            "20 conv_pw_3\n",
            "21 conv_pw_3_bn\n",
            "22 conv_pw_3_relu\n",
            "23 conv_pad_4\n",
            "24 conv_dw_4\n",
            "25 conv_dw_4_bn\n",
            "26 conv_dw_4_relu\n",
            "27 conv_pw_4\n",
            "28 conv_pw_4_bn\n",
            "29 conv_pw_4_relu\n",
            "30 conv_dw_5\n",
            "31 conv_dw_5_bn\n",
            "32 conv_dw_5_relu\n",
            "33 conv_pw_5\n",
            "34 conv_pw_5_bn\n",
            "35 conv_pw_5_relu\n",
            "36 conv_pad_6\n",
            "37 conv_dw_6\n",
            "38 conv_dw_6_bn\n",
            "39 conv_dw_6_relu\n",
            "40 conv_pw_6\n",
            "41 conv_pw_6_bn\n",
            "42 conv_pw_6_relu\n",
            "43 conv_dw_7\n",
            "44 conv_dw_7_bn\n",
            "45 conv_dw_7_relu\n",
            "46 conv_pw_7\n",
            "47 conv_pw_7_bn\n",
            "48 conv_pw_7_relu\n",
            "49 conv_dw_8\n",
            "50 conv_dw_8_bn\n",
            "51 conv_dw_8_relu\n",
            "52 conv_pw_8\n",
            "53 conv_pw_8_bn\n",
            "54 conv_pw_8_relu\n",
            "55 conv_dw_9\n",
            "56 conv_dw_9_bn\n",
            "57 conv_dw_9_relu\n",
            "58 conv_pw_9\n",
            "59 conv_pw_9_bn\n",
            "60 conv_pw_9_relu\n",
            "61 conv_dw_10\n",
            "62 conv_dw_10_bn\n",
            "63 conv_dw_10_relu\n",
            "64 conv_pw_10\n",
            "65 conv_pw_10_bn\n",
            "66 conv_pw_10_relu\n",
            "67 conv_dw_11\n",
            "68 conv_dw_11_bn\n",
            "69 conv_dw_11_relu\n",
            "70 conv_pw_11\n",
            "71 conv_pw_11_bn\n",
            "72 conv_pw_11_relu\n",
            "73 conv_pad_12\n",
            "74 conv_dw_12\n",
            "75 conv_dw_12_bn\n",
            "76 conv_dw_12_relu\n",
            "77 conv_pw_12\n",
            "78 conv_pw_12_bn\n",
            "79 conv_pw_12_relu\n",
            "80 conv_dw_13\n",
            "81 conv_dw_13_bn\n",
            "82 conv_dw_13_relu\n",
            "83 conv_pw_13\n",
            "84 conv_pw_13_bn\n",
            "85 conv_pw_13_relu\n",
            "86 global_average_pooling2d\n",
            "87 dense\n",
            "88 dense_1\n"
          ]
        }
      ]
    },
    {
      "cell_type": "code",
      "source": [
        "for layer in model.layers[:88]:\n",
        "  layer.trainable=False\n",
        "for layer in model.layers[88:]:\n",
        "  layer.trainable=True"
      ],
      "metadata": {
        "id": "40Mu0ttX8Ilb"
      },
      "execution_count": 8,
      "outputs": []
    },
    {
      "cell_type": "code",
      "source": [
        "batch_size = 32"
      ],
      "metadata": {
        "id": "mMrqsx3C8aa5"
      },
      "execution_count": 9,
      "outputs": []
    },
    {
      "cell_type": "code",
      "source": [
        "train_datagen= ImageDataGenerator(rescale = 1./255,\n",
        "                                  shear_range = 0.4,\n",
        "                                  zoom_range = 0.4,\n",
        "                                  height_shift_range = 0.3,\n",
        "                                  width_shift_range = 0.3,\n",
        "                                  rotation_range = 50,\n",
        "                                  horizontal_flip = True)\n",
        "test_datagen = ImageDataGenerator(rescale = 1./255)\n",
        "\n",
        "training_set = train_datagen.flow_from_directory('catsxdogs/training_set',\n",
        "                                                target_size = (224,224),\n",
        "                                                batch_size=batch_size,\n",
        "                                                class_mode='binary')\n",
        "test_set = test_datagen.flow_from_directory('catsxdogs/test_set',\n",
        "                                                target_size = (224,224),\n",
        "                                                batch_size=batch_size,\n",
        "                                                class_mode='binary')"
      ],
      "metadata": {
        "colab": {
          "base_uri": "https://localhost:8080/"
        },
        "id": "Dz8rUiwK8d27",
        "outputId": "68a9327e-398a-4b53-a532-c24123b81852"
      },
      "execution_count": 10,
      "outputs": [
        {
          "output_type": "stream",
          "name": "stdout",
          "text": [
            "Found 8000 images belonging to 2 classes.\n",
            "Found 2000 images belonging to 2 classes.\n"
          ]
        }
      ]
    },
    {
      "cell_type": "code",
      "source": [
        "model.compile(optimizer=Adam(learning_rate = 0.0001), loss='binary_crossentropy',metrics=['accuracy'])"
      ],
      "metadata": {
        "id": "ZggmIO0U97P-"
      },
      "execution_count": 11,
      "outputs": []
    },
    {
      "cell_type": "code",
      "source": [
        "history = model.fit_generator(generator=training_set,\n",
        "                              steps_per_epoch=8000/batch_size,\n",
        "                              epochs = 10,\n",
        "                              validation_data = test_set,\n",
        "                              validation_steps = 2000/batch_size)"
      ],
      "metadata": {
        "colab": {
          "base_uri": "https://localhost:8080/"
        },
        "id": "1lHMRdXd-5OD",
        "outputId": "8e3500e9-be45-424e-bfa0-c7b4b4544158"
      },
      "execution_count": 12,
      "outputs": [
        {
          "output_type": "stream",
          "name": "stderr",
          "text": [
            "<ipython-input-12-5cab83dc23ff>:1: UserWarning: `Model.fit_generator` is deprecated and will be removed in a future version. Please use `Model.fit`, which supports generators.\n",
            "  history = model.fit_generator(generator=training_set,\n"
          ]
        },
        {
          "output_type": "stream",
          "name": "stdout",
          "text": [
            "Epoch 1/10\n",
            "250/250 [==============================] - 619s 2s/step - loss: 0.6763 - accuracy: 0.5884 - val_loss: 0.6391 - val_accuracy: 0.6210\n",
            "Epoch 2/10\n",
            "250/250 [==============================] - 539s 2s/step - loss: 0.6484 - accuracy: 0.6199 - val_loss: 0.6041 - val_accuracy: 0.6665\n",
            "Epoch 3/10\n",
            "250/250 [==============================] - 537s 2s/step - loss: 0.6225 - accuracy: 0.6485 - val_loss: 0.5724 - val_accuracy: 0.7020\n",
            "Epoch 4/10\n",
            "250/250 [==============================] - 593s 2s/step - loss: 0.5968 - accuracy: 0.6829 - val_loss: 0.5431 - val_accuracy: 0.7380\n",
            "Epoch 5/10\n",
            "250/250 [==============================] - 544s 2s/step - loss: 0.5781 - accuracy: 0.6989 - val_loss: 0.5172 - val_accuracy: 0.7655\n",
            "Epoch 6/10\n",
            "250/250 [==============================] - 601s 2s/step - loss: 0.5589 - accuracy: 0.7222 - val_loss: 0.4933 - val_accuracy: 0.7895\n",
            "Epoch 7/10\n",
            "250/250 [==============================] - 599s 2s/step - loss: 0.5382 - accuracy: 0.7415 - val_loss: 0.4716 - val_accuracy: 0.8110\n",
            "Epoch 8/10\n",
            "250/250 [==============================] - 603s 2s/step - loss: 0.5235 - accuracy: 0.7490 - val_loss: 0.4518 - val_accuracy: 0.8325\n",
            "Epoch 9/10\n",
            "250/250 [==============================] - 542s 2s/step - loss: 0.5105 - accuracy: 0.7645 - val_loss: 0.4334 - val_accuracy: 0.8445\n",
            "Epoch 10/10\n",
            "250/250 [==============================] - 540s 2s/step - loss: 0.4936 - accuracy: 0.7735 - val_loss: 0.4168 - val_accuracy: 0.8540\n"
          ]
        }
      ]
    },
    {
      "cell_type": "code",
      "source": [
        "model.save('catsxdogs_mobilenet.h5')\n",
        "from google.colab import files\n",
        "files.download('catsxdogs_mobilenet.h5')"
      ],
      "metadata": {
        "id": "yHaesOej_P5s",
        "colab": {
          "base_uri": "https://localhost:8080/",
          "height": 72
        },
        "outputId": "4610aea9-dc98-4642-91bf-b3cef8ee2a7a"
      },
      "execution_count": 13,
      "outputs": [
        {
          "output_type": "stream",
          "name": "stderr",
          "text": [
            "/usr/local/lib/python3.10/dist-packages/keras/src/engine/training.py:3103: UserWarning: You are saving your model as an HDF5 file via `model.save()`. This file format is considered legacy. We recommend using instead the native Keras format, e.g. `model.save('my_model.keras')`.\n",
            "  saving_api.save_model(\n"
          ]
        },
        {
          "output_type": "display_data",
          "data": {
            "text/plain": [
              "<IPython.core.display.Javascript object>"
            ],
            "application/javascript": [
              "\n",
              "    async function download(id, filename, size) {\n",
              "      if (!google.colab.kernel.accessAllowed) {\n",
              "        return;\n",
              "      }\n",
              "      const div = document.createElement('div');\n",
              "      const label = document.createElement('label');\n",
              "      label.textContent = `Downloading \"${filename}\": `;\n",
              "      div.appendChild(label);\n",
              "      const progress = document.createElement('progress');\n",
              "      progress.max = size;\n",
              "      div.appendChild(progress);\n",
              "      document.body.appendChild(div);\n",
              "\n",
              "      const buffers = [];\n",
              "      let downloaded = 0;\n",
              "\n",
              "      const channel = await google.colab.kernel.comms.open(id);\n",
              "      // Send a message to notify the kernel that we're ready.\n",
              "      channel.send({})\n",
              "\n",
              "      for await (const message of channel.messages) {\n",
              "        // Send a message to notify the kernel that we're ready.\n",
              "        channel.send({})\n",
              "        if (message.buffers) {\n",
              "          for (const buffer of message.buffers) {\n",
              "            buffers.push(buffer);\n",
              "            downloaded += buffer.byteLength;\n",
              "            progress.value = downloaded;\n",
              "          }\n",
              "        }\n",
              "      }\n",
              "      const blob = new Blob(buffers, {type: 'application/binary'});\n",
              "      const a = document.createElement('a');\n",
              "      a.href = window.URL.createObjectURL(blob);\n",
              "      a.download = filename;\n",
              "      div.appendChild(a);\n",
              "      a.click();\n",
              "      div.remove();\n",
              "    }\n",
              "  "
            ]
          },
          "metadata": {}
        },
        {
          "output_type": "display_data",
          "data": {
            "text/plain": [
              "<IPython.core.display.Javascript object>"
            ],
            "application/javascript": [
              "download(\"download_9dd8da25-5083-47f3-93ad-5f259fea5c07\", \"catsxdogs_mobilenet.h5\", 13398256)"
            ]
          },
          "metadata": {}
        }
      ]
    },
    {
      "cell_type": "code",
      "source": [
        "from tensorflow.keras.preprocessing.image import load_img, img_to_array\n",
        "import numpy as np"
      ],
      "metadata": {
        "id": "vJ0Dg0xXJGUT"
      },
      "execution_count": 17,
      "outputs": []
    },
    {
      "cell_type": "code",
      "source": [
        "ls catsxdogs/single_prediction"
      ],
      "metadata": {
        "colab": {
          "base_uri": "https://localhost:8080/"
        },
        "id": "zsBURIR6ygWv",
        "outputId": "f92cead2-2d1d-42fe-9e3c-bc0ea0124a49"
      },
      "execution_count": 22,
      "outputs": [
        {
          "output_type": "stream",
          "name": "stdout",
          "text": [
            "cat_or_dog_1.jpg  cat_or_dog_2.jpg  chino1.jpg  floyd1.jpg  floyd2.jpg  floyd3.jpg  floyd4.jpg\n"
          ]
        }
      ]
    },
    {
      "cell_type": "code",
      "source": [
        "test_image = load_img('catsxdogs/single_prediction/floyd4.jpg', target_size=(224, 224))\n",
        "\n",
        "test_image = img_to_array(test_image)\n",
        "test_image = np.expand_dims(test_image, axis = 0)\n",
        "test_image = test_image/255\n",
        "\n",
        "result = model.predict(test_image)\n",
        "\n",
        "if result[0][0] > 0.5:\n",
        "  prediction = 'Cachorro'\n",
        "else:\n",
        "  prediction = 'Gato'\n",
        "print(prediction)"
      ],
      "metadata": {
        "colab": {
          "base_uri": "https://localhost:8080/"
        },
        "id": "QrIf0-VAy_kO",
        "outputId": "fc4fc2bb-240f-4040-d422-9c947f9d3e3d"
      },
      "execution_count": 27,
      "outputs": [
        {
          "output_type": "stream",
          "name": "stdout",
          "text": [
            "1/1 [==============================] - 0s 86ms/step\n",
            "Gato\n"
          ]
        }
      ]
    }
  ]
}